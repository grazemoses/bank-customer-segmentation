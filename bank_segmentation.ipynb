Python 3.13.5 (tags/v3.13.5:6cb20a2, Jun 11 2025, 16:15:46) [MSC v.1943 64 bit (AMD64)] on win32
Type "help", "copyright", "credits" or "license" for more information.
...
... # Plot total cases
... plt.figure(figsize=(12, 6))
... sns.lineplot(data=india_df, x='date', y='total_cases', label='Total Cases', color='green')
... plt.title("Total COVID-19 Cases in India Over Time")
... plt.xlabel("Date")
... plt.ylabel("Cumulative Cases")
... plt.grid(True)
... plt.tight_layout()
... plt.show()
...
... # Moving average (7-day)
... india_df['7_day_avg'] = india_df['new_cases'].rolling(window=7).mean()
...
... plt.figure(figsize=(12, 6))
... sns.lineplot(data=india_df, x='date', y='new_cases', label='Daily New Cases', alpha=0.4)
... sns.lineplot(data=india_df, x='date', y='7_day_avg', label='7-Day Moving Average', color='red')
... plt.title("Daily Cases and 7-Day Average - India")
... plt.xlabel("Date")
... plt.ylabel("Cases")
... plt.legend()
... plt.grid(True)
... plt.tight_layout()
... plt.show()
...
... # Summary statistics
... summary = india_df.describe()
... print("\nSummary Statistics:")
... print(summary[['new_cases', 'new_deaths']])

Latest Date: 2024-08-12 00:00:00
             date  new_cases  total_cases  new_deaths  total_deaths
175226 2024-08-08        NaN          NaN         NaN           NaN
175227 2024-08-09        NaN          NaN         NaN           NaN
175228 2024-08-10        NaN          NaN         NaN           NaN
175229 2024-08-11        NaN          NaN         NaN           NaN
175230 2024-08-12        NaN          NaN         NaN           NaN

Summary Statistics:
          new_cases    new_deaths
count  1.674000e+03   1674.000000
mean   2.690666e+04    318.771207
min    0.000000e+00      0.000000
25%    0.000000e+00      0.000000
50%    0.000000e+00      0.000000
75%    0.000000e+00      0.000000
max    2.738957e+06  28982.000000
std    1.752650e+05   1958.433819
>>>
>>>
>>>
... plt.show()
...
... # Plot total cases
... plt.figure(figsize=(12, 6))
... sns.lineplot(data=india_df, x='date', y='total_cases', label='Total Cases', color='green')
... plt.title("Total COVID-19 Cases in India Over Time")
... plt.xlabel("Date")
... plt.ylabel("Cumulative Cases")
... plt.grid(True)
... plt.tight_layout()
... plt.show()
...
... # Moving average (7-day)
... india_df['7_day_avg'] = india_df['new_cases'].rolling(window=7).mean()
...
... plt.figure(figsize=(12, 6))
... sns.lineplot(data=india_df, x='date', y='new_cases', label='Daily New Cases', alpha=0.4)
... sns.lineplot(data=india_df, x='date', y='7_day_avg', label='7-Day Moving Average', color='red')
... plt.title("Daily Cases and 7-Day Average - India")
... plt.xlabel("Date")
... plt.ylabel("Cases")
... plt.legend()
... plt.grid(True)
... plt.tight_layout()
... plt.show()
...
... # Summary statistics
... summary = india_df.describe()
... print("\nSummary Statistics:")
... print(summary[['new_cases', 'new_deaths']])